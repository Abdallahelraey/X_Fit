{
 "cells": [
  {
   "cell_type": "code",
   "execution_count": 1,
   "metadata": {},
   "outputs": [
    {
     "ename": "ModuleNotFoundError",
     "evalue": "No module named 'src'",
     "output_type": "error",
     "traceback": [
      "\u001b[1;31m---------------------------------------------------------------------------\u001b[0m",
      "\u001b[1;31mModuleNotFoundError\u001b[0m                       Traceback (most recent call last)",
      "\u001b[1;32m~\\AppData\\Local\\Temp\\ipykernel_8708\\1630941534.py\u001b[0m in \u001b[0;36m<module>\u001b[1;34m\u001b[0m\n\u001b[1;32m----> 1\u001b[1;33m \u001b[1;32mfrom\u001b[0m \u001b[0msrc\u001b[0m\u001b[1;33m.\u001b[0m\u001b[0muser\u001b[0m\u001b[1;33m.\u001b[0m\u001b[0muser_profile\u001b[0m \u001b[1;32mimport\u001b[0m \u001b[0mUserProfile\u001b[0m\u001b[1;33m\u001b[0m\u001b[1;33m\u001b[0m\u001b[0m\n\u001b[0m\u001b[0;32m      2\u001b[0m \u001b[1;32mfrom\u001b[0m \u001b[0msrc\u001b[0m\u001b[1;33m.\u001b[0m\u001b[0massessments\u001b[0m\u001b[1;33m.\u001b[0m\u001b[0massessments\u001b[0m\u001b[1;33m.\u001b[0m\u001b[0massessment\u001b[0m \u001b[1;32mimport\u001b[0m \u001b[0mAssessment\u001b[0m\u001b[1;33m\u001b[0m\u001b[1;33m\u001b[0m\u001b[0m\n\u001b[0;32m      3\u001b[0m \u001b[1;32mfrom\u001b[0m \u001b[0msrc\u001b[0m\u001b[1;33m.\u001b[0m\u001b[0mopt_model\u001b[0m\u001b[1;33m.\u001b[0m\u001b[0mstabilization\u001b[0m\u001b[1;33m.\u001b[0m\u001b[0mstabilization_endurance\u001b[0m \u001b[1;32mimport\u001b[0m \u001b[0mStabilizationEndurance\u001b[0m\u001b[1;33m\u001b[0m\u001b[1;33m\u001b[0m\u001b[0m\n\u001b[0;32m      4\u001b[0m \u001b[1;32mfrom\u001b[0m \u001b[0msrc\u001b[0m\u001b[1;33m.\u001b[0m\u001b[0mopt_model\u001b[0m\u001b[1;33m.\u001b[0m\u001b[0mstrength\u001b[0m\u001b[1;33m.\u001b[0m\u001b[0mstrength_endurance\u001b[0m \u001b[1;32mimport\u001b[0m \u001b[0mStrengthEndurance\u001b[0m\u001b[1;33m\u001b[0m\u001b[1;33m\u001b[0m\u001b[0m\n",
      "\u001b[1;31mModuleNotFoundError\u001b[0m: No module named 'src'"
     ]
    }
   ],
   "source": [
    "from src.user.user_profile import UserProfile\n",
    "from src.assessments.assessments.assessment import Assessment\n",
    "from src.opt_model.stabilization.stabilization_endurance import StabilizationEndurance\n",
    "from src.opt_model.strength.strength_endurance import StrengthEndurance"
   ]
  },
  {
   "cell_type": "code",
   "execution_count": 2,
   "metadata": {},
   "outputs": [
    {
     "name": "stdout",
     "output_type": "stream",
     "text": [
      "Weight:  70\n",
      "Height:  180\n",
      "Age:  25\n",
      "Gender:  male\n",
      "Fitness Level:  Intermediate\n",
      "Exercise Preferences:  {'duration': 30, 'intensity': 'High', 'frequency': 5}\n",
      "Goals:  Lose Weight\n",
      "BMR:  1748.0470000000003\n",
      "BMI:  21.604938271604937\n"
     ]
    }
   ],
   "source": [
    "# Create a new user profile\n",
    "user_1 = UserProfile(1, 25, 'male', 'John Doe', 'johndoe@example.com', 'password123', ['Push-ups', 'Running'], 'Intermediate', 'Lose Weight', {'duration': 30, 'intensity': 'High', 'frequency': 5}, ['None'], 70, 180)\n",
    "\n",
    "# Create a new assessment using the user profile\n",
    "user_1_assessment = Assessment(user_1.user_id, user_1.age, user_1.gender, user_1.name, user_1.email, user_1.password, user_1.workout_history, user_1.fitness_level, user_1.fitness_goals, user_1.preferences, user_1.medical_conditions, user_1.weight, user_1.height)\n",
    "\n",
    "# Now you can use the attributes from the assessment\n",
    "print(\"Weight: \", user_1_assessment.weight) \n",
    "print(\"Height: \", user_1_assessment.height) \n",
    "print(\"Age: \", user_1_assessment.age)    \n",
    "print(\"Gender: \", user_1_assessment.gender)\n",
    "print(\"Fitness Level: \", user_1_assessment.fitness_level) \n",
    "print(\"Exercise Preferences: \", user_1_assessment.preferences) \n",
    "print(\"Goals: \", user_1_assessment.goals)   \n",
    "print(\"BMR: \", user_1_assessment.bmr_calculation()) \n",
    "print(\"BMI: \", user_1_assessment.bmi_calculation()) "
   ]
  },
  {
   "cell_type": "code",
   "execution_count": 6,
   "metadata": {},
   "outputs": [
    {
     "name": "stdout",
     "output_type": "stream",
     "text": [
      "A plan of {'_muscle_groups': 'Specific', '_reps': (1, 3), '_sets': (1, 1), '_tempo': 30, '_intensity': 'Low', '_rest': (30, 60), '_load': 'Light', '_schedule': 'Fixed', '_frequency': (3, 7), '_volume': 'Low', '_split': 'Full Body', '_duration': 8, '_exercise_selection': 'SMR and static'}  \n",
      " with excercises are ['Push-ups', 'Running']  \n"
     ]
    }
   ],
   "source": [
    "user_trainings,user_parameters = user_1.get_personalized_recommendation()\n",
    "print(f\"A plan of {user_parameters}  \\n with excercises are {user_trainings}\")"
   ]
  },
  {
   "cell_type": "code",
   "execution_count": 2,
   "metadata": {},
   "outputs": [],
   "source": [
    "sten = StabilizationEndurance()"
   ]
  },
  {
   "cell_type": "code",
   "execution_count": 3,
   "metadata": {},
   "outputs": [],
   "source": [
    "sten.flexibility()\n",
    "sten.core()\n",
    "sten.balance()\n",
    "sten.plyometric()\n",
    "sten.saq()\n",
    "sten.resistance()"
   ]
  },
  {
   "cell_type": "code",
   "execution_count": 4,
   "metadata": {},
   "outputs": [
    {
     "data": {
      "text/plain": [
       "'Specific'"
      ]
     },
     "execution_count": 4,
     "metadata": {},
     "output_type": "execute_result"
    }
   ],
   "source": [
    "sten.flexibility_training_parameters.muscle_groups"
   ]
  },
  {
   "cell_type": "code",
   "execution_count": 5,
   "metadata": {},
   "outputs": [
    {
     "name": "stdout",
     "output_type": "stream",
     "text": [
      "Training Parameters:\n",
      "- Muscle Groups: Specific\n",
      "- Reps: (1, 3)\n",
      "- Sets: (1, 1)\n",
      "- Tempo: 30\n",
      "- Intensity: Low\n",
      "- Rest: (30, 60)\n",
      "- Load: Light\n",
      "- Schedule: Fixed\n",
      "- Frequency: (3, 7)\n",
      "- Volume: Low\n",
      "- Split: Full Body\n",
      "- Duration: 8\n",
      "- Exercise Selection: SMR and static\n"
     ]
    }
   ],
   "source": [
    "sten.display_training_parameters(sten.flexibility_training_parameters)"
   ]
  },
  {
   "cell_type": "code",
   "execution_count": 6,
   "metadata": {},
   "outputs": [
    {
     "name": "stdout",
     "output_type": "stream",
     "text": [
      "Training Parameters:\n",
      "- Muscle Groups: General\n",
      "- Reps: (12, 20)\n",
      "- Sets: (1, 4)\n",
      "- Tempo: Slow 4/2/1\n",
      "- Intensity: Moderate\n",
      "- Rest: (0, 90)\n",
      "- Load: Moderate\n",
      "- Schedule: Flexible\n",
      "- Frequency: (2, 4)\n",
      "- Volume: None\n",
      "- Split: Full Body\n",
      "- Duration: 8\n",
      "- Exercise Selection: 1–4 core-stabilization\n"
     ]
    }
   ],
   "source": [
    "sten.display_training_parameters(sten.core_training_parameters)"
   ]
  },
  {
   "cell_type": "code",
   "execution_count": 4,
   "metadata": {},
   "outputs": [],
   "source": [
    "stren = StrengthEndurance()"
   ]
  },
  {
   "cell_type": "code",
   "execution_count": 5,
   "metadata": {},
   "outputs": [],
   "source": [
    "stren.flexibility()"
   ]
  },
  {
   "cell_type": "code",
   "execution_count": 7,
   "metadata": {},
   "outputs": [
    {
     "name": "stdout",
     "output_type": "stream",
     "text": [
      "Training Parameters:\n",
      "- Muscle Groups: Specific\n",
      "- Reps: (5, 10)\n",
      "- Sets: (1, 2)\n",
      "- Tempo: 1–2 s hold\n",
      "- Intensity: Low\n",
      "- Rest: (0, 0)\n",
      "- Load: Light\n",
      "- Schedule: Fixed\n",
      "- Frequency: (3, 7)\n",
      "- Volume: Low\n",
      "- Split: Full Body\n",
      "- Duration: 8\n",
      "- Exercise Selection: SMR and active*\n"
     ]
    }
   ],
   "source": [
    "stren.display_training_parameters(stren.flexibility_training_parameters)"
   ]
  },
  {
   "cell_type": "markdown",
   "metadata": {},
   "source": [
    "-----"
   ]
  },
  {
   "cell_type": "code",
   "execution_count": null,
   "metadata": {},
   "outputs": [],
   "source": [
    "# Create an instance of the Assessment class with the sample input\n",
    "print(\"Creating Assessment instance...\")\n",
    "assessment = Assessment(user_id, age, gender, name, email, password, medical_conditions, weight, height)\n",
    "print(\"Assessment instance created.\")\n",
    "\n",
    "# Set preferences (optional)\n",
    "print(\"Setting preferences...\")\n",
    "type = 'running'\n",
    "duration = '45 minutes'\n",
    "intensity = 'high'\n",
    "frequency = '3 times a week'\n",
    "assessment.set_preferences(preferred_type=type, preferred_duration=duration, preferred_intensity=intensity, frequency=frequency)\n",
    "print(\"Preferences set.\")\n",
    "\n",
    "# Set fitness goals with selected goals indices\n",
    "print(\"Setting fitness goals...\")\n",
    "assessment.goals = assessment.goal_setting(selected_goals_indices)\n",
    "print(\"Fitness goals set.\")\n",
    "\n",
    "# Get workout recommendation\n",
    "print(\"Getting workout recommendation...\")\n",
    "workout_recommendation = assessment.get_workout_recommendation()\n",
    "print(\"Workout recommendation received:\", workout_recommendation)\n",
    "\n",
    "# Create workout plan based on the recommendation\n",
    "print(\"Creating workout plan...\")\n",
    "workout_plan = assessment.create_workout_plan()\n",
    "print(\"Workout plan created:\", workout_plan)\n",
    "\n",
    "# Optionally, add the workout plan to the workout history\n",
    "if workout_plan:\n",
    "    print(\"Adding workout plan to workout history...\")\n",
    "    assessment.add_workout_to_history(workout_plan)\n",
    "    print(\"Workout plan added to workout history.\")\n",
    "\n",
    "# Print or use the workout plan as needed\n",
    "print(\"Final workout plan:\", workout_plan)\n"
   ]
  },
  {
   "cell_type": "markdown",
   "metadata": {},
   "source": [
    "---"
   ]
  },
  {
   "cell_type": "code",
   "execution_count": null,
   "metadata": {},
   "outputs": [],
   "source": [
    "# Sample input for the Assessment class\n",
    "from user_profile import UserProfile\n",
    "\n",
    "# Define sample user data\n",
    "user_id = 1\n",
    "age = 30\n",
    "gender = 'male'\n",
    "name = 'John Doe'\n",
    "email = 'john.doe@example.com'\n",
    "password = 'securepassword'\n",
    "medical_conditions = ['Hypertension']\n",
    "weight = 80.5  # in kilograms\n",
    "height = 175.0  # in centimeters\n",
    "\n",
    "# Instantiate a UserProfile object\n",
    "user_profile = UserProfile(user_id, age, gender, name, email, password, medical_conditions, weight, height)\n",
    "\n",
    "# Create an instance of the Assessment class with the sample input\n",
    "assessment = Assessment(\n",
    "    user_profile.user_id,\n",
    "    user_profile.age,\n",
    "    user_profile.gender,\n",
    "    user_profile.name,\n",
    "    user_profile.email,\n",
    "    user_profile.password,\n",
    "    user_profile.medical_conditions,\n",
    "    user_profile.weight,\n",
    "    user_profile.height\n",
    ")\n",
    "\n",
    "# Optionally, you can set preferences and goals\n",
    "# For example:\n",
    "# Set preferences\n",
    "assessment.set_preferences(duration='30 minutes', intensity='medium', frequency='3 times a week')\n",
    "\n",
    "# Set goals\n",
    "selected_goals_indices = [1, 2]  # Example: Weight Loss and Muscle Gain\n",
    "assessment.goals = assessment.goal_setting(selected_goals_indices)\n",
    "\n",
    "# Now, you can use the instance of the Assessment class to generate workout recommendations, create workout plans, etc.\n"
   ]
  },
  {
   "cell_type": "markdown",
   "metadata": {},
   "source": [
    "---"
   ]
  },
  {
   "cell_type": "code",
   "execution_count": null,
   "metadata": {},
   "outputs": [],
   "source": []
  },
  {
   "cell_type": "code",
   "execution_count": null,
   "metadata": {},
   "outputs": [],
   "source": []
  },
  {
   "cell_type": "code",
   "execution_count": null,
   "metadata": {},
   "outputs": [],
   "source": []
  },
  {
   "cell_type": "code",
   "execution_count": null,
   "metadata": {},
   "outputs": [],
   "source": []
  }
 ],
 "metadata": {
  "kernelspec": {
   "display_name": "base",
   "language": "python",
   "name": "python3"
  },
  "language_info": {
   "codemirror_mode": {
    "name": "ipython",
    "version": 3
   },
   "file_extension": ".py",
   "mimetype": "text/x-python",
   "name": "python",
   "nbconvert_exporter": "python",
   "pygments_lexer": "ipython3",
   "version": "3.9.13"
  }
 },
 "nbformat": 4,
 "nbformat_minor": 2
}
