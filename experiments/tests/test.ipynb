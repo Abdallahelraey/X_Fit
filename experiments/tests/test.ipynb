{
 "cells": [
  {
   "cell_type": "code",
   "execution_count": 1,
   "metadata": {},
   "outputs": [],
   "source": [
    "from user_profile import UserProfile\n",
    "from assessment import Assessment\n",
    "from stabilization_endurance import StabilizationEndurance\n",
    "from strength_endurance import StrengthEndurance"
   ]
  },
  {
   "cell_type": "code",
   "execution_count": 2,
   "metadata": {},
   "outputs": [
    {
     "name": "stdout",
     "output_type": "stream",
     "text": [
      "Weight:  70\n",
      "Height:  180\n",
      "Age:  25\n",
      "Gender:  male\n",
      "Fitness Level:  Intermediate\n",
      "Exercise Preferences:  {'duration': 30, 'intensity': 'High', 'frequency': 5}\n",
      "Goals:  Lose Weight\n",
      "BMR:  1748.0470000000003\n",
      "BMI:  21.604938271604937\n"
     ]
    }
   ],
   "source": [
    "# Create a new user profile\n",
    "user_1 = UserProfile(1, 25, 'male', 'John Doe', 'johndoe@example.com', 'password123', ['Push-ups', 'Running'], 'Intermediate', 'Lose Weight', {'duration': 30, 'intensity': 'High', 'frequency': 5}, ['None'], 70, 180)\n",
    "\n",
    "# Create a new assessment using the user profile\n",
    "user_1_assessment = Assessment(user_1.user_id, user_1.age, user_1.gender, user_1.name, user_1.email, user_1.password, user_1.workout_history, user_1.fitness_level, user_1.fitness_goals, user_1.preferences, user_1.medical_conditions, user_1.weight, user_1.height)\n",
    "\n",
    "# Now you can use the attributes from the assessment\n",
    "print(\"Weight: \", user_1_assessment.weight) \n",
    "print(\"Height: \", user_1_assessment.height) \n",
    "print(\"Age: \", user_1_assessment.age)    \n",
    "print(\"Gender: \", user_1_assessment.gender)\n",
    "print(\"Fitness Level: \", user_1_assessment.fitness_level) \n",
    "print(\"Exercise Preferences: \", user_1_assessment.preferences) \n",
    "print(\"Goals: \", user_1_assessment.goals)   \n",
    "print(\"BMR: \", user_1_assessment.bmr_calculation()) \n",
    "print(\"BMI: \", user_1_assessment.bmi_calculation()) "
   ]
  },
  {
   "cell_type": "code",
   "execution_count": 6,
   "metadata": {},
   "outputs": [
    {
     "name": "stdout",
     "output_type": "stream",
     "text": [
      "A plan of {'_muscle_groups': 'Specific', '_reps': (1, 3), '_sets': (1, 1), '_tempo': 30, '_intensity': 'Low', '_rest': (30, 60), '_load': 'Light', '_schedule': 'Fixed', '_frequency': (3, 7), '_volume': 'Low', '_split': 'Full Body', '_duration': 8, '_exercise_selection': 'SMR and static'}  \n",
      " with excercises are ['Push-ups', 'Running']  \n"
     ]
    }
   ],
   "source": [
    "user_trainings,user_parameters = user_1.get_personalized_recommendation()\n",
    "print(f\"A plan of {user_parameters}  \\n with excercises are {user_trainings}\")"
   ]
  },
  {
   "cell_type": "code",
   "execution_count": 2,
   "metadata": {},
   "outputs": [],
   "source": [
    "sten = StabilizationEndurance()"
   ]
  },
  {
   "cell_type": "code",
   "execution_count": 3,
   "metadata": {},
   "outputs": [],
   "source": [
    "sten.flexibility()\n",
    "sten.core()\n",
    "sten.balance()\n",
    "sten.plyometric()\n",
    "sten.saq()\n",
    "sten.resistance()"
   ]
  },
  {
   "cell_type": "code",
   "execution_count": 4,
   "metadata": {},
   "outputs": [
    {
     "data": {
      "text/plain": [
       "'Specific'"
      ]
     },
     "execution_count": 4,
     "metadata": {},
     "output_type": "execute_result"
    }
   ],
   "source": [
    "sten.flexibility_training_parameters.muscle_groups"
   ]
  },
  {
   "cell_type": "code",
   "execution_count": 5,
   "metadata": {},
   "outputs": [
    {
     "name": "stdout",
     "output_type": "stream",
     "text": [
      "Training Parameters:\n",
      "- Muscle Groups: Specific\n",
      "- Reps: (1, 3)\n",
      "- Sets: (1, 1)\n",
      "- Tempo: 30\n",
      "- Intensity: Low\n",
      "- Rest: (30, 60)\n",
      "- Load: Light\n",
      "- Schedule: Fixed\n",
      "- Frequency: (3, 7)\n",
      "- Volume: Low\n",
      "- Split: Full Body\n",
      "- Duration: 8\n",
      "- Exercise Selection: SMR and static\n"
     ]
    }
   ],
   "source": [
    "sten.display_training_parameters(sten.flexibility_training_parameters)"
   ]
  },
  {
   "cell_type": "code",
   "execution_count": 6,
   "metadata": {},
   "outputs": [
    {
     "name": "stdout",
     "output_type": "stream",
     "text": [
      "Training Parameters:\n",
      "- Muscle Groups: General\n",
      "- Reps: (12, 20)\n",
      "- Sets: (1, 4)\n",
      "- Tempo: Slow 4/2/1\n",
      "- Intensity: Moderate\n",
      "- Rest: (0, 90)\n",
      "- Load: Moderate\n",
      "- Schedule: Flexible\n",
      "- Frequency: (2, 4)\n",
      "- Volume: None\n",
      "- Split: Full Body\n",
      "- Duration: 8\n",
      "- Exercise Selection: 1–4 core-stabilization\n"
     ]
    }
   ],
   "source": [
    "sten.display_training_parameters(sten.core_training_parameters)"
   ]
  },
  {
   "cell_type": "code",
   "execution_count": 4,
   "metadata": {},
   "outputs": [],
   "source": [
    "stren = StrengthEndurance()"
   ]
  },
  {
   "cell_type": "code",
   "execution_count": 5,
   "metadata": {},
   "outputs": [],
   "source": [
    "stren.flexibility()"
   ]
  },
  {
   "cell_type": "code",
   "execution_count": 7,
   "metadata": {},
   "outputs": [
    {
     "name": "stdout",
     "output_type": "stream",
     "text": [
      "Training Parameters:\n",
      "- Muscle Groups: Specific\n",
      "- Reps: (5, 10)\n",
      "- Sets: (1, 2)\n",
      "- Tempo: 1–2 s hold\n",
      "- Intensity: Low\n",
      "- Rest: (0, 0)\n",
      "- Load: Light\n",
      "- Schedule: Fixed\n",
      "- Frequency: (3, 7)\n",
      "- Volume: Low\n",
      "- Split: Full Body\n",
      "- Duration: 8\n",
      "- Exercise Selection: SMR and active*\n"
     ]
    }
   ],
   "source": [
    "stren.display_training_parameters(stren.flexibility_training_parameters)"
   ]
  },
  {
   "cell_type": "code",
   "execution_count": null,
   "metadata": {},
   "outputs": [],
   "source": []
  }
 ],
 "metadata": {
  "kernelspec": {
   "display_name": "base",
   "language": "python",
   "name": "python3"
  },
  "language_info": {
   "codemirror_mode": {
    "name": "ipython",
    "version": 3
   },
   "file_extension": ".py",
   "mimetype": "text/x-python",
   "name": "python",
   "nbconvert_exporter": "python",
   "pygments_lexer": "ipython3",
   "version": "3.11.0"
  }
 },
 "nbformat": 4,
 "nbformat_minor": 2
}
