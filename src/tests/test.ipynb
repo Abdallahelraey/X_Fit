{
 "cells": [
  {
   "cell_type": "code",
   "execution_count": 1,
   "metadata": {},
   "outputs": [],
   "source": [
    "from src.user.user_profile import UserProfile\n",
    "from src.assessments.assessments.assessment import Assessment"
   ]
  },
  {
   "cell_type": "code",
   "execution_count": 2,
   "metadata": {},
   "outputs": [
    {
     "name": "stdout",
     "output_type": "stream",
     "text": [
      "Choose one or more goals from the following options:\n",
      "1. Weight Loss\n",
      "2. Muscle Gain\n",
      "3. Endurance Improvement\n",
      "4. Flexibility Improvement\n",
      "5. Core Strength\n",
      "6. Functional Strength\n",
      "7. Body Composition Improvement\n",
      "8. Sports Performance Enhancement\n",
      "9. Injury Prevention\n",
      "10. Stress Reduction\n",
      "Weight:  70\n",
      "Height:  180\n",
      "Age:  25\n",
      "Gender:  male\n",
      "Fitness Level:  Normal\n",
      "Exercise Preferences:  {'type': 'cardio', 'duration': '30', 'intensity': 'low'}\n",
      "Goals:  ['Weight Loss']\n",
      "BMR:  1748.0470000000003\n",
      "BMI:  21.604938271604937\n"
     ]
    }
   ],
   "source": [
    "# Create a new user profile\n",
    "# Create a new user profile\n",
    "user_1 = UserProfile(\n",
    "    user_id=1,\n",
    "    age=25,\n",
    "    gender='male',\n",
    "    name='John Doe',\n",
    "    email='johndoe@example.com',\n",
    "    password='password123',\n",
    "    workout_history=['Push-ups', 'Running'],\n",
    "    fitness_level='Intermediate',\n",
    "    fitness_goals='Lose Weight',\n",
    "    preferences={'duration': 30, 'intensity': 'High', 'frequency': 5},\n",
    "    medical_conditions=['None'],\n",
    "    weight=70,\n",
    "    height=180\n",
    ")\n",
    "\n",
    "# Create a new assessment using the user profile\n",
    "# Create a new assessment using the user profile\n",
    "user_1_assessment = Assessment(user_profile=user_1)\n",
    "\n",
    "\n",
    "# Now you can use the attributes from the assessment\n",
    "print(\"Weight: \", user_1_assessment.weight) \n",
    "print(\"Height: \", user_1_assessment.height) \n",
    "print(\"Age: \", user_1_assessment.age)    \n",
    "print(\"Gender: \", user_1_assessment.gender)\n",
    "print(\"Fitness Level: \", user_1_assessment.fitness_level) \n",
    "print(\"Exercise Preferences: \", user_1_assessment.preferences) \n",
    "print(\"Goals: \", user_1_assessment.goals)   \n",
    "print(\"BMR: \", user_1_assessment.bmr) \n",
    "print(\"BMI: \", user_1_assessment.bmi) "
   ]
  },
  {
   "cell_type": "code",
   "execution_count": 3,
   "metadata": {},
   "outputs": [
    {
     "name": "stdout",
     "output_type": "stream",
     "text": [
      "A plan of {'_muscle_groups': 'Specific', '_reps': (1, 3), '_sets': (1, 1), '_tempo': 30, '_intensity': 'Low', '_rest': (30, 60), '_load': 'Light', '_schedule': 'Fixed', '_frequency': (3, 7), '_volume': 'Low', '_split': 'Full Body', '_duration': 8, '_exercise_selection': 'SMR and static'}  \n",
      " with excercises are ['Push-ups', 'Running']\n"
     ]
    }
   ],
   "source": [
    "user_trainings,user_parameters = user_1.get_personalized_recommendation()\n",
    "print(f\"A plan of {user_parameters}  \\n with excercises are {user_trainings}\")"
   ]
  },
  {
   "cell_type": "markdown",
   "metadata": {},
   "source": [
    "----"
   ]
  },
  {
   "cell_type": "code",
   "execution_count": null,
   "metadata": {},
   "outputs": [],
   "source": []
  },
  {
   "cell_type": "code",
   "execution_count": null,
   "metadata": {},
   "outputs": [],
   "source": []
  },
  {
   "cell_type": "code",
   "execution_count": null,
   "metadata": {},
   "outputs": [],
   "source": []
  }
 ],
 "metadata": {
  "kernelspec": {
   "display_name": "base",
   "language": "python",
   "name": "python3"
  },
  "language_info": {
   "codemirror_mode": {
    "name": "ipython",
    "version": 3
   },
   "file_extension": ".py",
   "mimetype": "text/x-python",
   "name": "python",
   "nbconvert_exporter": "python",
   "pygments_lexer": "ipython3",
   "version": "3.9.13"
  }
 },
 "nbformat": 4,
 "nbformat_minor": 2
}
