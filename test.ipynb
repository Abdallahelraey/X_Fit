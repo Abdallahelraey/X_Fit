{
 "cells": [
  {
   "cell_type": "code",
   "execution_count": 1,
   "metadata": {},
   "outputs": [],
   "source": [
    "from src.user.user_profile import UserProfile\n",
    "from src.assessments.assessments.assessment import Assessment\n",
    "from src.opt_model.stabilization.stabilization_endurance import StabilizationEndurance\n",
    "from src.opt_model.strength.strength_endurance import StrengthEndurance"
   ]
  },
  {
   "cell_type": "code",
   "execution_count": 2,
   "metadata": {},
   "outputs": [
    {
     "name": "stdout",
     "output_type": "stream",
     "text": [
      "Choose one or more goals from the following options:\n",
      "1. Weight Loss\n",
      "2. Muscle Gain\n",
      "3. Endurance Improvement\n",
      "4. Flexibility Improvement\n",
      "5. Core Strength\n",
      "6. Functional Strength\n",
      "7. Body Composition Improvement\n",
      "8. Sports Performance Enhancement\n",
      "9. Injury Prevention\n",
      "10. Stress Reduction\n",
      "Weight:  70\n",
      "Height:  180\n",
      "Age:  25\n",
      "Gender:  male\n",
      "Fitness Level:  Normal\n",
      "Exercise Preferences:  {'type': 'cardio', 'duration': '30', 'intensity': 'low'}\n",
      "Goals:  ['Weight Loss']\n",
      "BMR:  1748.0470000000003\n",
      "BMI:  21.604938271604937\n"
     ]
    }
   ],
   "source": [
    "# Create a new user profile\n",
    "# Create a new user profile\n",
    "user_1 = UserProfile(\n",
    "    user_id=1,\n",
    "    age=25,\n",
    "    gender='male',\n",
    "    name='John Doe',\n",
    "    email='johndoe@example.com',\n",
    "    password='password123',\n",
    "    workout_history=['Push-ups', 'Running'],\n",
    "    fitness_level='Intermediate',\n",
    "    fitness_goals='Lose Weight',\n",
    "    preferences={'duration': 30, 'intensity': 'High', 'frequency': 5},\n",
    "    medical_conditions=['None'],\n",
    "    weight=70,\n",
    "    height=180\n",
    ")\n",
    "\n",
    "# Create a new assessment using the user profile\n",
    "# Create a new assessment using the user profile\n",
    "user_1_assessment = Assessment(user_profile=user_1)\n",
    "\n",
    "\n",
    "# Now you can use the attributes from the assessment\n",
    "print(\"Weight: \", user_1_assessment.weight) \n",
    "print(\"Height: \", user_1_assessment.height) \n",
    "print(\"Age: \", user_1_assessment.age)    \n",
    "print(\"Gender: \", user_1_assessment.gender)\n",
    "print(\"Fitness Level: \", user_1_assessment.fitness_level) \n",
    "print(\"Exercise Preferences: \", user_1_assessment.preferences) \n",
    "print(\"Goals: \", user_1_assessment.goals)   \n",
    "print(\"BMR: \", user_1_assessment.bmr) \n",
    "print(\"BMI: \", user_1_assessment.bmi) "
   ]
  },
  {
   "cell_type": "code",
   "execution_count": 11,
   "metadata": {},
   "outputs": [
    {
     "name": "stdout",
     "output_type": "stream",
     "text": [
      "A plan of {'_muscle_groups': 'Specific', '_reps': (1, 3), '_sets': (1, 1), '_tempo': 30, '_intensity': 'Low', '_rest': (30, 60), '_load': 'Light', '_schedule': 'Fixed', '_frequency': (3, 7), '_volume': 'Low', '_split': 'Full Body', '_duration': 8, '_exercise_selection': 'SMR and static'}  \n",
      " with excercises are ['Push-ups', 'Running']\n"
     ]
    }
   ],
   "source": [
    "user_trainings,user_parameters = user_1.get_personalized_recommendation()\n",
    "print(f\"A plan of {user_parameters}  \\n with excercises are {user_trainings}\")"
   ]
  },
  {
   "cell_type": "code",
   "execution_count": 2,
   "metadata": {},
   "outputs": [],
   "source": [
    "sten = StabilizationEndurance()"
   ]
  },
  {
   "cell_type": "code",
   "execution_count": 3,
   "metadata": {},
   "outputs": [],
   "source": [
    "sten.flexibility()\n",
    "sten.core()\n",
    "sten.balance()\n",
    "sten.plyometric()\n",
    "sten.saq()\n",
    "sten.resistance()"
   ]
  },
  {
   "cell_type": "code",
   "execution_count": 4,
   "metadata": {},
   "outputs": [
    {
     "data": {
      "text/plain": [
       "'Specific'"
      ]
     },
     "execution_count": 4,
     "metadata": {},
     "output_type": "execute_result"
    }
   ],
   "source": [
    "sten.flexibility_training_parameters.muscle_groups"
   ]
  },
  {
   "cell_type": "code",
   "execution_count": 5,
   "metadata": {},
   "outputs": [
    {
     "name": "stdout",
     "output_type": "stream",
     "text": [
      "Training Parameters:\n",
      "- Muscle Groups: Specific\n",
      "- Reps: (1, 3)\n",
      "- Sets: (1, 1)\n",
      "- Tempo: 30\n",
      "- Intensity: Low\n",
      "- Rest: (30, 60)\n",
      "- Load: Light\n",
      "- Schedule: Fixed\n",
      "- Frequency: (3, 7)\n",
      "- Volume: Low\n",
      "- Split: Full Body\n",
      "- Duration: 8\n",
      "- Exercise Selection: SMR and static\n"
     ]
    }
   ],
   "source": [
    "sten.display_training_parameters(sten.flexibility_training_parameters)"
   ]
  },
  {
   "cell_type": "code",
   "execution_count": 6,
   "metadata": {},
   "outputs": [
    {
     "name": "stdout",
     "output_type": "stream",
     "text": [
      "Training Parameters:\n",
      "- Muscle Groups: General\n",
      "- Reps: (12, 20)\n",
      "- Sets: (1, 4)\n",
      "- Tempo: Slow 4/2/1\n",
      "- Intensity: Moderate\n",
      "- Rest: (0, 90)\n",
      "- Load: Moderate\n",
      "- Schedule: Flexible\n",
      "- Frequency: (2, 4)\n",
      "- Volume: None\n",
      "- Split: Full Body\n",
      "- Duration: 8\n",
      "- Exercise Selection: 1–4 core-stabilization\n"
     ]
    }
   ],
   "source": [
    "sten.display_training_parameters(sten.core_training_parameters)"
   ]
  },
  {
   "cell_type": "code",
   "execution_count": 4,
   "metadata": {},
   "outputs": [],
   "source": [
    "stren = StrengthEndurance()"
   ]
  },
  {
   "cell_type": "code",
   "execution_count": 5,
   "metadata": {},
   "outputs": [],
   "source": [
    "stren.flexibility()"
   ]
  },
  {
   "cell_type": "code",
   "execution_count": 7,
   "metadata": {},
   "outputs": [
    {
     "name": "stdout",
     "output_type": "stream",
     "text": [
      "Training Parameters:\n",
      "- Muscle Groups: Specific\n",
      "- Reps: (5, 10)\n",
      "- Sets: (1, 2)\n",
      "- Tempo: 1–2 s hold\n",
      "- Intensity: Low\n",
      "- Rest: (0, 0)\n",
      "- Load: Light\n",
      "- Schedule: Fixed\n",
      "- Frequency: (3, 7)\n",
      "- Volume: Low\n",
      "- Split: Full Body\n",
      "- Duration: 8\n",
      "- Exercise Selection: SMR and active*\n"
     ]
    }
   ],
   "source": [
    "stren.display_training_parameters(stren.flexibility_training_parameters)"
   ]
  },
  {
   "cell_type": "markdown",
   "metadata": {},
   "source": [
    "-----"
   ]
  },
  {
   "cell_type": "code",
   "execution_count": null,
   "metadata": {},
   "outputs": [],
   "source": [
    "# Create an instance of the Assessment class with the sample input\n",
    "print(\"Creating Assessment instance...\")\n",
    "assessment = Assessment(user_id, age, gender, name, email, password, medical_conditions, weight, height)\n",
    "print(\"Assessment instance created.\")\n",
    "\n",
    "# Set preferences (optional)\n",
    "print(\"Setting preferences...\")\n",
    "type = 'running'\n",
    "duration = '45 minutes'\n",
    "intensity = 'high'\n",
    "frequency = '3 times a week'\n",
    "assessment.set_preferences(preferred_type=type, preferred_duration=duration, preferred_intensity=intensity, frequency=frequency)\n",
    "print(\"Preferences set.\")\n",
    "\n",
    "# Set fitness goals with selected goals indices\n",
    "print(\"Setting fitness goals...\")\n",
    "assessment.goals = assessment.goal_setting(selected_goals_indices)\n",
    "print(\"Fitness goals set.\")\n",
    "\n",
    "# Get workout recommendation\n",
    "print(\"Getting workout recommendation...\")\n",
    "workout_recommendation = assessment.get_workout_recommendation()\n",
    "print(\"Workout recommendation received:\", workout_recommendation)\n",
    "\n",
    "# Create workout plan based on the recommendation\n",
    "print(\"Creating workout plan...\")\n",
    "workout_plan = assessment.create_workout_plan()\n",
    "print(\"Workout plan created:\", workout_plan)\n",
    "\n",
    "# Optionally, add the workout plan to the workout history\n",
    "if workout_plan:\n",
    "    print(\"Adding workout plan to workout history...\")\n",
    "    assessment.add_workout_to_history(workout_plan)\n",
    "    print(\"Workout plan added to workout history.\")\n",
    "\n",
    "# Print or use the workout plan as needed\n",
    "print(\"Final workout plan:\", workout_plan)\n"
   ]
  },
  {
   "cell_type": "code",
   "execution_count": 13,
   "metadata": {},
   "outputs": [],
   "source": [
    "# Define sample input data\n",
    "user_id = 1\n",
    "age = 30\n",
    "gender = 'male'\n",
    "name = 'John Doe'\n",
    "email = 'john@example.com'\n",
    "password = 'password123'\n",
    "medical_conditions = ['None']\n",
    "weight = 75.5  # in kilograms\n",
    "height = 180.0  # in centimeters\n",
    "\n",
    "# Define sample preferences\n",
    "preferred_type = 'running'\n",
    "preferred_duration = '45 minutes'\n",
    "preferred_intensity = 'high'\n",
    "frequency = '3 times a week'\n",
    "\n",
    "# Define sample selected goals indices\n",
    "selected_goals_indices = [1, 2]  # Example: Lose Weight, Build Muscle\n",
    "\n",
    "# Define sample workout recommendation\n",
    "workout_recommendation = \"Run for 30 minutes, then do strength training for 20 minutes.\"\n",
    "\n",
    "# Define sample workout plan\n",
    "workout_plan = {\n",
    "    'Monday': ['Run for 30 minutes', 'Strength training'],\n",
    "    'Wednesday': ['Run for 30 minutes', 'Strength training'],\n",
    "    'Friday': ['Run for 30 minutes', 'Strength training']\n",
    "}\n"
   ]
  },
  {
   "cell_type": "code",
   "execution_count": 19,
   "metadata": {},
   "outputs": [
    {
     "name": "stdout",
     "output_type": "stream",
     "text": [
      "Creating Assessment instance...\n"
     ]
    }
   ],
   "source": [
    "# Create an instance of the Assessment class with the sample input\n",
    "print(\"Creating Assessment instance...\")\n",
    "assessment = Assessment(user_id=user_id, age=age, gender=gender, name=name, email=email, password=password, medical_conditions=medical_conditions, weight=weight, height=height)\n",
    "print(\"Assessment instance created.\")\n",
    "\n",
    "# Set preferences (optional)\n",
    "print(\"Setting preferences...\")\n",
    "type = 'running'\n",
    "duration = '45 minutes'\n",
    "intensity = 'high'\n",
    "frequency = '3 times a week'  \n",
    "assessment.set_preferences(duration=duration, intensity=intensity, frequency=frequency)\n",
    "print(\"Preferences set.\")\n",
    "\n",
    "# Set fitness goals with selected goals indices\n",
    "print(\"Setting fitness goals...\")\n",
    "selected_goals_indices = [1, 2]  # Sample selected goals indices\n",
    "assessment.goal_setting(selected_goals_indices)\n",
    "print(\"Fitness goals set.\")\n",
    "\n",
    "# Get workout recommendation\n",
    "print(\"Getting workout recommendation...\")\n",
    "workout_recommendation = assessment.get_workout_recommendation()\n",
    "print(\"Workout recommendation received:\", workout_recommendation)\n",
    "\n",
    "# Create workout plan based on the recommendation\n",
    "print(\"Creating workout plan...\")\n",
    "workout_plan = assessment.create_workout_plan()\n",
    "print(\"Workout plan created:\", workout_plan)\n",
    "\n",
    "# Optionally, add the workout plan to the workout history\n",
    "if workout_plan:\n",
    "    print(\"Adding workout plan to workout history...\")\n",
    "    assessment.add_workout_to_history(workout_plan)\n",
    "    print(\"Workout plan added to workout history.\")\n",
    "\n",
    "# Print or use the workout plan as needed\n",
    "print(\"Final workout plan:\", workout_plan)\n"
   ]
  },
  {
   "cell_type": "markdown",
   "metadata": {},
   "source": [
    "---"
   ]
  },
  {
   "cell_type": "code",
   "execution_count": null,
   "metadata": {},
   "outputs": [],
   "source": [
    "# Sample input for the Assessment class\n",
    "from user_profile import UserProfile\n",
    "\n",
    "# Define sample user data\n",
    "user_id = 1\n",
    "age = 30\n",
    "gender = 'male'\n",
    "name = 'John Doe'\n",
    "email = 'john.doe@example.com'\n",
    "password = 'securepassword'\n",
    "medical_conditions = ['Hypertension']\n",
    "weight = 80.5  # in kilograms\n",
    "height = 175.0  # in centimeters\n",
    "\n",
    "# Instantiate a UserProfile object\n",
    "user_profile = UserProfile(user_id, age, gender, name, email, password, medical_conditions, weight, height)\n",
    "\n",
    "# Create an instance of the Assessment class with the sample input\n",
    "assessment = Assessment(\n",
    "    user_profile.user_id,\n",
    "    user_profile.age,\n",
    "    user_profile.gender,\n",
    "    user_profile.name,\n",
    "    user_profile.email,\n",
    "    user_profile.password,\n",
    "    user_profile.medical_conditions,\n",
    "    user_profile.weight,\n",
    "    user_profile.height\n",
    ")\n",
    "\n",
    "# Optionally, you can set preferences and goals\n",
    "# For example:\n",
    "# Set preferences\n",
    "assessment.set_preferences(duration='30 minutes', intensity='medium', frequency='3 times a week')\n",
    "\n",
    "# Set goals\n",
    "selected_goals_indices = [1, 2]  # Example: Weight Loss and Muscle Gain\n",
    "assessment.goals = assessment.goal_setting(selected_goals_indices)\n",
    "\n",
    "# Now, you can use the instance of the Assessment class to generate workout recommendations, create workout plans, etc.\n"
   ]
  },
  {
   "cell_type": "markdown",
   "metadata": {},
   "source": [
    "---"
   ]
  },
  {
   "cell_type": "code",
   "execution_count": null,
   "metadata": {},
   "outputs": [],
   "source": []
  },
  {
   "cell_type": "code",
   "execution_count": null,
   "metadata": {},
   "outputs": [],
   "source": []
  },
  {
   "cell_type": "code",
   "execution_count": null,
   "metadata": {},
   "outputs": [],
   "source": []
  },
  {
   "cell_type": "code",
   "execution_count": null,
   "metadata": {},
   "outputs": [],
   "source": []
  }
 ],
 "metadata": {
  "kernelspec": {
   "display_name": "base",
   "language": "python",
   "name": "python3"
  },
  "language_info": {
   "codemirror_mode": {
    "name": "ipython",
    "version": 3
   },
   "file_extension": ".py",
   "mimetype": "text/x-python",
   "name": "python",
   "nbconvert_exporter": "python",
   "pygments_lexer": "ipython3",
   "version": "3.9.13"
  }
 },
 "nbformat": 4,
 "nbformat_minor": 2
}
